{
 "cells": [
  {
   "cell_type": "markdown",
   "id": "93e2b571",
   "metadata": {},
   "source": [
    "# Homework 3"
   ]
  },
  {
   "cell_type": "code",
   "execution_count": 2,
   "id": "f64b8339",
   "metadata": {},
   "outputs": [],
   "source": [
    "# import necessary packages\n",
    "import pandas as pd\n",
    "from pandas import read_csv\n",
    "import numpy as np\n",
    "import matplotlib.pyplot as plt\n",
    "from sklearn.preprocessing import MinMaxScaler\n",
    "from sklearn.model_selection import train_test_split\n",
    "from sklearn.model_selection import cross_val_score\n",
    "from sklearn.model_selection import GridSearchCV\n",
    "from sklearn.model_selection import RepeatedStratifiedKFold\n",
    "from sklearn.linear_model import Perceptron\n",
    "from sklearn.metrics import mean_squared_error\n",
    "from sklearn.metrics import r2_score\n",
    "from sklearn.metrics import accuracy_score\n",
    "from sklearn.neighbors import KNeighborsClassifier\n",
    "import warnings\n",
    "warnings.filterwarnings(\"ignore\")\n",
    "\n",
    "# reading csv data file\n",
    "df = read_csv(\"AMZN.csv\")\n",
    "dfSonar = read_csv(\"sonar.all-data.csv\")\n",
    "\n",
    "# data prep\n",
    "adjClose = df[['Adj Close']].values\n",
    "arraySonar = dfSonar.values\n",
    "dataSonar = arraySonar[:,:-1]\n",
    "targetSonar = arraySonar[:,-1]"
   ]
  },
  {
   "cell_type": "code",
   "execution_count": 3,
   "id": "7fde07a6",
   "metadata": {},
   "outputs": [],
   "source": [
    "# series_to_supervised function\n",
    "def series_to_supervised(data, n_in=1, n_out=1, dropnan=True):\n",
    "    \"\"\"\n",
    "    Frame a time series as a supervised learning dataset.\n",
    "    Arguments:\n",
    "        data: Sequence of observations as a list or NumPy array.\n",
    "        n_in: Number of lag observations as input (X).\n",
    "        n_out: Number of observations as output (y).\n",
    "        dropnan: Boolean whether or not to drop rows with NaN values.\n",
    "    Returns:\n",
    "        Pandas DataFrame of series framed for supervised learning.\n",
    "    \"\"\"\n",
    "    n_vars = 1 if type(data) is list else data.shape[1]\n",
    "    df = pd.DataFrame(data)\n",
    "    cols, names = list(), list()\n",
    "    \n",
    "    # input sequence (t-n, ... t-1)\n",
    "    for i in range(n_in, 0, -1):\n",
    "        cols.append(df.shift(i))\n",
    "        names += [('var%d(t-%d)' % (j+1, i)) for j in range(n_vars)]\n",
    "    \n",
    "    # forecast sequence (t, t+1, ... t+n)\n",
    "    for i in range(0, n_out):\n",
    "        cols.append(df.shift(-i))\n",
    "        if i == 0:\n",
    "            names += [('var%d(t)' % (j+1)) for j in range(n_vars)]\n",
    "        else:\n",
    "            names += [('var%d(t+%d)' % (j+1, i)) for j in range(n_vars)]\n",
    "    \n",
    "    # put it all together\n",
    "    agg = pd.concat(cols, axis=1)\n",
    "    agg.columns = names\n",
    "    \n",
    "    # drop rows with NaN values\n",
    "    if dropnan:\n",
    "        agg.dropna(inplace=True)\n",
    "    return agg\n",
    "  "
   ]
  },
  {
   "cell_type": "markdown",
   "id": "74065906",
   "metadata": {},
   "source": [
    "## Problem 1"
   ]
  },
  {
   "cell_type": "markdown",
   "id": "df9f1cb3",
   "metadata": {},
   "source": [
    "### (a)"
   ]
  },
  {
   "cell_type": "code",
   "execution_count": 4,
   "id": "c8886d54",
   "metadata": {},
   "outputs": [
    {
     "name": "stdout",
     "output_type": "stream",
     "text": [
      "       var1(t-10)    var1(t-9)    var1(t-8)    var1(t-7)    var1(t-6)  \\\n",
      "10       1.958333     1.729167     1.708333     1.635417     1.427083   \n",
      "11       1.729167     1.708333     1.635417     1.427083     1.395833   \n",
      "12       1.708333     1.635417     1.427083     1.395833     1.500000   \n",
      "13       1.635417     1.427083     1.395833     1.500000     1.583333   \n",
      "14       1.427083     1.395833     1.500000     1.583333     1.531250   \n",
      "...           ...          ...          ...          ...          ...   \n",
      "5753  1676.609985  1785.000000  1689.150024  1807.839966  1830.000000   \n",
      "5754  1785.000000  1689.150024  1807.839966  1830.000000  1880.930054   \n",
      "5755  1689.150024  1807.839966  1830.000000  1880.930054  1846.089966   \n",
      "5756  1807.839966  1830.000000  1880.930054  1846.089966  1902.829956   \n",
      "5757  1830.000000  1880.930054  1846.089966  1902.829956  1940.099976   \n",
      "\n",
      "        var1(t-5)    var1(t-4)    var1(t-3)    var1(t-2)    var1(t-1)  \\\n",
      "10       1.395833     1.500000     1.583333     1.531250     1.505208   \n",
      "11       1.500000     1.583333     1.531250     1.505208     1.500000   \n",
      "12       1.583333     1.531250     1.505208     1.500000     1.510417   \n",
      "13       1.531250     1.505208     1.500000     1.510417     1.479167   \n",
      "14       1.505208     1.500000     1.510417     1.479167     1.416667   \n",
      "...           ...          ...          ...          ...          ...   \n",
      "5753  1880.930054  1846.089966  1902.829956  1940.099976  1885.839966   \n",
      "5754  1846.089966  1902.829956  1940.099976  1885.839966  1955.489990   \n",
      "5755  1902.829956  1940.099976  1885.839966  1955.489990  1900.099976   \n",
      "5756  1940.099976  1885.839966  1955.489990  1900.099976  1963.949951   \n",
      "5757  1885.839966  1955.489990  1900.099976  1963.949951  1949.719971   \n",
      "\n",
      "          var1(t)  \n",
      "10       1.500000  \n",
      "11       1.510417  \n",
      "12       1.479167  \n",
      "13       1.416667  \n",
      "14       1.541667  \n",
      "...           ...  \n",
      "5753  1955.489990  \n",
      "5754  1900.099976  \n",
      "5755  1963.949951  \n",
      "5756  1949.719971  \n",
      "5757  1907.699951  \n",
      "\n",
      "[5748 rows x 11 columns]\n"
     ]
    }
   ],
   "source": [
    "# create supervised learning set from closing data\n",
    "supervisedDF = series_to_supervised(adjClose, 10)\n",
    "print(supervisedDF)"
   ]
  },
  {
   "cell_type": "markdown",
   "id": "6879a668",
   "metadata": {},
   "source": [
    "## (b)"
   ]
  },
  {
   "cell_type": "code",
   "execution_count": 5,
   "id": "92be3d29",
   "metadata": {},
   "outputs": [],
   "source": [
    "# df to array and scaling\n",
    "array = supervisedDF.values\n",
    "scaler = MinMaxScaler()\n",
    "array = scaler.fit_transform(array)"
   ]
  },
  {
   "cell_type": "markdown",
   "id": "1769a026",
   "metadata": {},
   "source": [
    "### (c)"
   ]
  },
  {
   "cell_type": "code",
   "execution_count": 6,
   "id": "d5eb9255",
   "metadata": {},
   "outputs": [],
   "source": [
    "# splitting data set\n",
    "data = array[:,0:10]\n",
    "target = array[:,10]\n",
    "\n",
    "# Adding bias and reshaping\n",
    "shape = data.shape[0]\n",
    "data = np.append(np.ones((shape,1)), data, axis=1)\n",
    "target = target.reshape(shape,1)\n",
    "\n",
    "# Normal Equation\n",
    "theta = np.dot(np.linalg.inv(np.dot(data.T,data)), np.dot(data.T,target))\n",
    "\n",
    "# train test split\n",
    "X_Train, X_Test, Y_Train, Y_Test = train_test_split(data, target, train_size = 0.7, random_state=1)"
   ]
  },
  {
   "cell_type": "markdown",
   "id": "f98cd6ed",
   "metadata": {},
   "source": [
    "### (d)"
   ]
  },
  {
   "cell_type": "code",
   "execution_count": 7,
   "id": "2e2ed455",
   "metadata": {},
   "outputs": [
    {
     "name": "stdout",
     "output_type": "stream",
     "text": [
      "MSE: 0.000\n",
      "R2: 1.000\n"
     ]
    }
   ],
   "source": [
    "# prediction with MSE & R2\n",
    "prediction = np.dot(X_Test, theta)\n",
    "print(\"MSE: %.3f\" % mean_squared_error(Y_Test, prediction))\n",
    "print(\"R2: %.3f\" % r2_score(Y_Test, prediction))"
   ]
  },
  {
   "cell_type": "markdown",
   "id": "b23a2fa2",
   "metadata": {},
   "source": [
    "### (e)"
   ]
  },
  {
   "cell_type": "code",
   "execution_count": 8,
   "id": "7b80be51",
   "metadata": {},
   "outputs": [],
   "source": [
    "# functions for gradient descent\n",
    "def predict(row, coefficients):\n",
    "    prediction = coefficients[0]\n",
    "    for i in range (len(row)):\n",
    "        prediction = prediction + coefficients[i+1] * row[i]\n",
    "    return prediction\n",
    "\n",
    "def coefficients_sgd(X_Train, Y_Train, learning_rate, iterations):\n",
    "    coef = [0.0 for i in range(len(X_Train[0])+1)]\n",
    "\n",
    "    for epoch in range(iterations):\n",
    "        sum_error = 0\n",
    "        for i in range(X_Train.shape[0]):\n",
    "            gradientPrediction = predict(X_Train[i,:], coef)\n",
    "            error = gradientPrediction - Y_Train[i]\n",
    "            sum_error += error**2\n",
    "            coef[0] = coef[0] - learning_rate * error\n",
    "            for j in range(len(coef)-1):\n",
    "                coef[j+1] = coef[j+1] - learning_rate * error * X_Train[i,j]\n",
    "        print( ' >epoch=%d, lrate=%.3f, error=%.3f ' % (epoch, learning_rate, sum_error))\n",
    "    return coef"
   ]
  },
  {
   "cell_type": "markdown",
   "id": "a064be17",
   "metadata": {},
   "source": [
    "### (f)"
   ]
  },
  {
   "cell_type": "code",
   "execution_count": 9,
   "id": "149fdebb",
   "metadata": {},
   "outputs": [
    {
     "name": "stdout",
     "output_type": "stream",
     "text": [
      " >epoch=0, lrate=0.010, error=5.694 \n",
      " >epoch=1, lrate=0.010, error=0.455 \n",
      " >epoch=2, lrate=0.010, error=0.450 \n",
      " >epoch=3, lrate=0.010, error=0.444 \n",
      " >epoch=4, lrate=0.010, error=0.439 \n",
      " >epoch=5, lrate=0.010, error=0.434 \n",
      " >epoch=6, lrate=0.010, error=0.429 \n",
      " >epoch=7, lrate=0.010, error=0.424 \n",
      " >epoch=8, lrate=0.010, error=0.419 \n",
      " >epoch=9, lrate=0.010, error=0.415 \n",
      " >epoch=10, lrate=0.010, error=0.410 \n",
      " >epoch=11, lrate=0.010, error=0.406 \n",
      " >epoch=12, lrate=0.010, error=0.401 \n",
      " >epoch=13, lrate=0.010, error=0.397 \n",
      " >epoch=14, lrate=0.010, error=0.393 \n",
      " >epoch=15, lrate=0.010, error=0.389 \n",
      " >epoch=16, lrate=0.010, error=0.385 \n",
      " >epoch=17, lrate=0.010, error=0.381 \n",
      " >epoch=18, lrate=0.010, error=0.377 \n",
      " >epoch=19, lrate=0.010, error=0.373 \n",
      " >epoch=20, lrate=0.010, error=0.369 \n",
      " >epoch=21, lrate=0.010, error=0.365 \n",
      " >epoch=22, lrate=0.010, error=0.362 \n",
      " >epoch=23, lrate=0.010, error=0.358 \n",
      " >epoch=24, lrate=0.010, error=0.355 \n",
      " >epoch=25, lrate=0.010, error=0.352 \n",
      " >epoch=26, lrate=0.010, error=0.348 \n",
      " >epoch=27, lrate=0.010, error=0.345 \n",
      " >epoch=28, lrate=0.010, error=0.342 \n",
      " >epoch=29, lrate=0.010, error=0.339 \n",
      " >epoch=30, lrate=0.010, error=0.336 \n",
      " >epoch=31, lrate=0.010, error=0.333 \n",
      " >epoch=32, lrate=0.010, error=0.330 \n",
      " >epoch=33, lrate=0.010, error=0.327 \n",
      " >epoch=34, lrate=0.010, error=0.324 \n",
      " >epoch=35, lrate=0.010, error=0.322 \n",
      " >epoch=36, lrate=0.010, error=0.319 \n",
      " >epoch=37, lrate=0.010, error=0.316 \n",
      " >epoch=38, lrate=0.010, error=0.314 \n",
      " >epoch=39, lrate=0.010, error=0.311 \n",
      " >epoch=40, lrate=0.010, error=0.309 \n",
      " >epoch=41, lrate=0.010, error=0.306 \n",
      " >epoch=42, lrate=0.010, error=0.304 \n",
      " >epoch=43, lrate=0.010, error=0.301 \n",
      " >epoch=44, lrate=0.010, error=0.299 \n",
      " >epoch=45, lrate=0.010, error=0.297 \n",
      " >epoch=46, lrate=0.010, error=0.295 \n",
      " >epoch=47, lrate=0.010, error=0.293 \n",
      " >epoch=48, lrate=0.010, error=0.290 \n",
      " >epoch=49, lrate=0.010, error=0.288 \n",
      " >epoch=50, lrate=0.010, error=0.286 \n",
      " >epoch=51, lrate=0.010, error=0.284 \n",
      " >epoch=52, lrate=0.010, error=0.282 \n",
      " >epoch=53, lrate=0.010, error=0.280 \n",
      " >epoch=54, lrate=0.010, error=0.279 \n",
      " >epoch=55, lrate=0.010, error=0.277 \n",
      " >epoch=56, lrate=0.010, error=0.275 \n",
      " >epoch=57, lrate=0.010, error=0.273 \n",
      " >epoch=58, lrate=0.010, error=0.271 \n",
      " >epoch=59, lrate=0.010, error=0.270 \n",
      " >epoch=60, lrate=0.010, error=0.268 \n",
      " >epoch=61, lrate=0.010, error=0.266 \n",
      " >epoch=62, lrate=0.010, error=0.265 \n",
      " >epoch=63, lrate=0.010, error=0.263 \n",
      " >epoch=64, lrate=0.010, error=0.262 \n",
      " >epoch=65, lrate=0.010, error=0.260 \n",
      " >epoch=66, lrate=0.010, error=0.259 \n",
      " >epoch=67, lrate=0.010, error=0.257 \n",
      " >epoch=68, lrate=0.010, error=0.256 \n",
      " >epoch=69, lrate=0.010, error=0.254 \n",
      " >epoch=70, lrate=0.010, error=0.253 \n",
      " >epoch=71, lrate=0.010, error=0.252 \n",
      " >epoch=72, lrate=0.010, error=0.250 \n",
      " >epoch=73, lrate=0.010, error=0.249 \n",
      " >epoch=74, lrate=0.010, error=0.248 \n",
      " >epoch=75, lrate=0.010, error=0.246 \n",
      " >epoch=76, lrate=0.010, error=0.245 \n",
      " >epoch=77, lrate=0.010, error=0.244 \n",
      " >epoch=78, lrate=0.010, error=0.243 \n",
      " >epoch=79, lrate=0.010, error=0.241 \n",
      " >epoch=80, lrate=0.010, error=0.240 \n",
      " >epoch=81, lrate=0.010, error=0.239 \n",
      " >epoch=82, lrate=0.010, error=0.238 \n",
      " >epoch=83, lrate=0.010, error=0.237 \n",
      " >epoch=84, lrate=0.010, error=0.236 \n",
      " >epoch=85, lrate=0.010, error=0.235 \n",
      " >epoch=86, lrate=0.010, error=0.234 \n",
      " >epoch=87, lrate=0.010, error=0.233 \n",
      " >epoch=88, lrate=0.010, error=0.232 \n",
      " >epoch=89, lrate=0.010, error=0.231 \n",
      " >epoch=90, lrate=0.010, error=0.230 \n",
      " >epoch=91, lrate=0.010, error=0.229 \n",
      " >epoch=92, lrate=0.010, error=0.228 \n",
      " >epoch=93, lrate=0.010, error=0.227 \n",
      " >epoch=94, lrate=0.010, error=0.226 \n",
      " >epoch=95, lrate=0.010, error=0.225 \n",
      " >epoch=96, lrate=0.010, error=0.224 \n",
      " >epoch=97, lrate=0.010, error=0.224 \n",
      " >epoch=98, lrate=0.010, error=0.223 \n",
      " >epoch=99, lrate=0.010, error=0.222 \n",
      " >epoch=100, lrate=0.010, error=0.221 \n",
      " >epoch=101, lrate=0.010, error=0.220 \n",
      " >epoch=102, lrate=0.010, error=0.219 \n",
      " >epoch=103, lrate=0.010, error=0.219 \n",
      " >epoch=104, lrate=0.010, error=0.218 \n",
      " >epoch=105, lrate=0.010, error=0.217 \n",
      " >epoch=106, lrate=0.010, error=0.216 \n",
      " >epoch=107, lrate=0.010, error=0.216 \n",
      " >epoch=108, lrate=0.010, error=0.215 \n",
      " >epoch=109, lrate=0.010, error=0.214 \n",
      " >epoch=110, lrate=0.010, error=0.214 \n",
      " >epoch=111, lrate=0.010, error=0.213 \n",
      " >epoch=112, lrate=0.010, error=0.212 \n",
      " >epoch=113, lrate=0.010, error=0.212 \n",
      " >epoch=114, lrate=0.010, error=0.211 \n",
      " >epoch=115, lrate=0.010, error=0.210 \n",
      " >epoch=116, lrate=0.010, error=0.210 \n",
      " >epoch=117, lrate=0.010, error=0.209 \n",
      " >epoch=118, lrate=0.010, error=0.208 \n",
      " >epoch=119, lrate=0.010, error=0.208 \n",
      " >epoch=120, lrate=0.010, error=0.207 \n",
      " >epoch=121, lrate=0.010, error=0.207 \n",
      " >epoch=122, lrate=0.010, error=0.206 \n",
      " >epoch=123, lrate=0.010, error=0.206 \n",
      " >epoch=124, lrate=0.010, error=0.205 \n",
      " >epoch=125, lrate=0.010, error=0.204 \n",
      " >epoch=126, lrate=0.010, error=0.204 \n",
      " >epoch=127, lrate=0.010, error=0.203 \n",
      " >epoch=128, lrate=0.010, error=0.203 \n",
      " >epoch=129, lrate=0.010, error=0.202 \n",
      " >epoch=130, lrate=0.010, error=0.202 \n",
      " >epoch=131, lrate=0.010, error=0.201 \n",
      " >epoch=132, lrate=0.010, error=0.201 \n",
      " >epoch=133, lrate=0.010, error=0.200 \n",
      " >epoch=134, lrate=0.010, error=0.200 \n",
      " >epoch=135, lrate=0.010, error=0.199 \n",
      " >epoch=136, lrate=0.010, error=0.199 \n",
      " >epoch=137, lrate=0.010, error=0.199 \n",
      " >epoch=138, lrate=0.010, error=0.198 \n",
      " >epoch=139, lrate=0.010, error=0.198 \n",
      " >epoch=140, lrate=0.010, error=0.197 \n",
      " >epoch=141, lrate=0.010, error=0.197 \n",
      " >epoch=142, lrate=0.010, error=0.196 \n",
      " >epoch=143, lrate=0.010, error=0.196 \n",
      " >epoch=144, lrate=0.010, error=0.196 \n",
      " >epoch=145, lrate=0.010, error=0.195 \n",
      " >epoch=146, lrate=0.010, error=0.195 \n",
      " >epoch=147, lrate=0.010, error=0.194 \n",
      " >epoch=148, lrate=0.010, error=0.194 \n",
      " >epoch=149, lrate=0.010, error=0.194 \n",
      " >epoch=150, lrate=0.010, error=0.193 \n",
      " >epoch=151, lrate=0.010, error=0.193 \n",
      " >epoch=152, lrate=0.010, error=0.192 \n",
      " >epoch=153, lrate=0.010, error=0.192 \n",
      " >epoch=154, lrate=0.010, error=0.192 \n",
      " >epoch=155, lrate=0.010, error=0.191 \n",
      " >epoch=156, lrate=0.010, error=0.191 \n",
      " >epoch=157, lrate=0.010, error=0.191 \n",
      " >epoch=158, lrate=0.010, error=0.190 \n",
      " >epoch=159, lrate=0.010, error=0.190 \n",
      " >epoch=160, lrate=0.010, error=0.190 \n",
      " >epoch=161, lrate=0.010, error=0.189 \n",
      " >epoch=162, lrate=0.010, error=0.189 \n",
      " >epoch=163, lrate=0.010, error=0.189 \n",
      " >epoch=164, lrate=0.010, error=0.188 \n",
      " >epoch=165, lrate=0.010, error=0.188 \n",
      " >epoch=166, lrate=0.010, error=0.188 \n",
      " >epoch=167, lrate=0.010, error=0.187 \n",
      " >epoch=168, lrate=0.010, error=0.187 \n",
      " >epoch=169, lrate=0.010, error=0.187 \n",
      " >epoch=170, lrate=0.010, error=0.186 \n",
      " >epoch=171, lrate=0.010, error=0.186 \n",
      " >epoch=172, lrate=0.010, error=0.186 \n",
      " >epoch=173, lrate=0.010, error=0.186 \n",
      " >epoch=174, lrate=0.010, error=0.185 \n",
      " >epoch=175, lrate=0.010, error=0.185 \n",
      " >epoch=176, lrate=0.010, error=0.185 \n",
      " >epoch=177, lrate=0.010, error=0.184 \n",
      " >epoch=178, lrate=0.010, error=0.184 \n",
      " >epoch=179, lrate=0.010, error=0.184 \n",
      " >epoch=180, lrate=0.010, error=0.184 \n",
      " >epoch=181, lrate=0.010, error=0.183 \n",
      " >epoch=182, lrate=0.010, error=0.183 \n",
      " >epoch=183, lrate=0.010, error=0.183 \n",
      " >epoch=184, lrate=0.010, error=0.183 \n",
      " >epoch=185, lrate=0.010, error=0.182 \n",
      " >epoch=186, lrate=0.010, error=0.182 \n",
      " >epoch=187, lrate=0.010, error=0.182 \n",
      " >epoch=188, lrate=0.010, error=0.182 \n",
      " >epoch=189, lrate=0.010, error=0.181 \n",
      " >epoch=190, lrate=0.010, error=0.181 \n",
      " >epoch=191, lrate=0.010, error=0.181 \n",
      " >epoch=192, lrate=0.010, error=0.181 \n",
      " >epoch=193, lrate=0.010, error=0.180 \n",
      " >epoch=194, lrate=0.010, error=0.180 \n",
      " >epoch=195, lrate=0.010, error=0.180 \n",
      " >epoch=196, lrate=0.010, error=0.180 \n",
      " >epoch=197, lrate=0.010, error=0.180 \n",
      " >epoch=198, lrate=0.010, error=0.179 \n",
      " >epoch=199, lrate=0.010, error=0.179 \n",
      "MSE: 0.000\n",
      "R2: 0.999\n"
     ]
    }
   ],
   "source": [
    "# apply functions and predict\n",
    "learning_rate = 0.01\n",
    "iterations = 200\n",
    "coef = coefficients_sgd(X_Train, Y_Train, learning_rate, iterations)\n",
    "\n",
    "Y_Prediction = np.array(predict(X_Test[0,:], coef))\n",
    "for i in range (X_Test.shape[0]-1):\n",
    "    Y_Prediction = np.append(Y_Prediction, predict(X_Test[i+1,:], coef))\n",
    "    \n",
    "print(\"MSE: %.3f\" % mean_squared_error(Y_Test, Y_Prediction))\n",
    "print(\"R2: %.3f\" % r2_score(Y_Test, Y_Prediction))"
   ]
  },
  {
   "cell_type": "markdown",
   "id": "90ab2a80",
   "metadata": {},
   "source": [
    "## Problem 2"
   ]
  },
  {
   "cell_type": "code",
   "execution_count": 9,
   "id": "53c1e09c",
   "metadata": {},
   "outputs": [
    {
     "name": "stdout",
     "output_type": "stream",
     "text": [
      "Mean Accuracy: 0.664\n",
      "Config: {'alpha': 0.0001}\n",
      "Accuracy of Perceptron Model w/ best alpha: 0.650794\n"
     ]
    }
   ],
   "source": [
    "# train test split\n",
    "XTrain, XTest, YTrain, YTest = train_test_split(dataSonar, targetSonar, test_size = 0.3, random_state=3)\n",
    "\n",
    "# Perceptron model w/ RepeatedStratifiedKFold\n",
    "model = Perceptron()\n",
    "model.fit(XTrain,YTrain)\n",
    "repStratKFold = RepeatedStratifiedKFold(n_splits=10, n_repeats=5, random_state=1)\n",
    "\n",
    "# creating grid and applying on Perceptron\n",
    "grid = dict()\n",
    "grid[\"alpha\"] = [0.0001, 0.001, 0.01, 0.1]\n",
    "gridSearch = GridSearchCV(model, grid, scoring=\"accuracy\",cv=repStratKFold, n_jobs=1)\n",
    "\n",
    "# reporting score\n",
    "results = gridSearch.fit(XTrain,YTrain)\n",
    "print('Mean Accuracy: %.3f' % results.best_score_)\n",
    "print('Config: %s' % results.best_params_)\n",
    "\n",
    "# Perceptron model with best value\n",
    "bestModel = Perceptron(alpha=0.0001)\n",
    "bestModel.fit(XTrain,YTrain)\n",
    "bestPrediction = bestModel.predict(XTest)\n",
    "print('Accuracy of Perceptron Model w/ best alpha: %3f' % accuracy_score(YTest,bestPrediction))"
   ]
  },
  {
   "cell_type": "markdown",
   "id": "e4b3d167",
   "metadata": {},
   "source": [
    "## Problem 3"
   ]
  },
  {
   "cell_type": "markdown",
   "id": "4cc1313c",
   "metadata": {},
   "source": [
    "### (a)"
   ]
  },
  {
   "cell_type": "code",
   "execution_count": 10,
   "id": "9395a8d8",
   "metadata": {},
   "outputs": [
    {
     "data": {
      "text/plain": [
       "{1: 0.7777777777777778,\n",
       " 2: 0.7142857142857143,\n",
       " 3: 0.7301587301587301,\n",
       " 4: 0.7142857142857143,\n",
       " 5: 0.746031746031746,\n",
       " 6: 0.746031746031746,\n",
       " 7: 0.6507936507936508,\n",
       " 8: 0.6349206349206349,\n",
       " 9: 0.6666666666666666,\n",
       " 10: 0.6666666666666666,\n",
       " 11: 0.6825396825396826,\n",
       " 12: 0.6507936507936508,\n",
       " 13: 0.6666666666666666,\n",
       " 14: 0.6507936507936508,\n",
       " 15: 0.6825396825396826,\n",
       " 16: 0.6666666666666666,\n",
       " 17: 0.6507936507936508,\n",
       " 18: 0.6666666666666666,\n",
       " 19: 0.6507936507936508,\n",
       " 20: 0.7142857142857143,\n",
       " 21: 0.6825396825396826,\n",
       " 22: 0.6825396825396826,\n",
       " 23: 0.6984126984126984,\n",
       " 24: 0.6825396825396826,\n",
       " 25: 0.6825396825396826,\n",
       " 26: 0.6825396825396826,\n",
       " 27: 0.6666666666666666,\n",
       " 28: 0.6984126984126984,\n",
       " 29: 0.7142857142857143,\n",
       " 30: 0.6984126984126984}"
      ]
     },
     "execution_count": 10,
     "metadata": {},
     "output_type": "execute_result"
    }
   ],
   "source": [
    "# train test split\n",
    "XTrain, XTest, YTrain, YTest = train_test_split(dataSonar, targetSonar, test_size = 0.3, random_state=5)\n",
    "\n",
    "# KNN model\n",
    "kResults = {}\n",
    "for k in range(1,31):\n",
    "    kNeighbors = KNeighborsClassifier(n_neighbors=k)\n",
    "    kNeighbors.fit(XTrain,YTrain)\n",
    "    kPrediction = kNeighbors.predict(XTest)\n",
    "    kResults[k] = accuracy_score(kPrediction,YTest)\n",
    "kResults"
   ]
  },
  {
   "cell_type": "markdown",
   "id": "45a3540f",
   "metadata": {},
   "source": [
    "### (b)"
   ]
  },
  {
   "cell_type": "code",
   "execution_count": 11,
   "id": "bc9f338d",
   "metadata": {},
   "outputs": [
    {
     "data": {
      "image/png": "[encoded data removed]",
      "text/plain": [
       "<Figure size 640x480 with 1 Axes>"
      ]
     },
     "metadata": {},
     "output_type": "display_data"
    }
   ],
   "source": [
    "# plotting KNN model\n",
    "plt.plot(list(kResults.keys()),list(kResults.values()))\n",
    "plt.suptitle('KNN Accuracy by # of neighbors')\n",
    "plt.xlabel('# of nearest neighbor')\n",
    "plt.ylabel('Accuracy')\n",
    "plt.show()"
   ]
  },
  {
   "cell_type": "markdown",
   "id": "9e615b5c",
   "metadata": {},
   "source": [
    "### (c)"
   ]
  },
  {
   "cell_type": "code",
   "execution_count": 12,
   "id": "223262ba",
   "metadata": {},
   "outputs": [
    {
     "name": "stdout",
     "output_type": "stream",
     "text": [
      "Accuracy of KNN Model w/ best # of neighbors: 0.682540\n"
     ]
    }
   ],
   "source": [
    "## KNN model using best value\n",
    "kBest = KNeighborsClassifier(n_neighbors=1)\n",
    "kBest.fit(XTrain,YTrain)\n",
    "kBestPrediction = bestModel.predict(XTest)\n",
    "print('Accuracy of KNN Model w/ best # of neighbors: %3f' % accuracy_score(YTest,kBestPrediction))"
   ]
  }
 ],
 "metadata": {
  "kernelspec": {
   "display_name": "Python 3 (ipykernel)",
   "language": "python",
   "name": "python3"
  },
  "language_info": {
   "codemirror_mode": {
    "name": "ipython",
    "version": 3
   },
   "file_extension": ".py",
   "mimetype": "text/x-python",
   "name": "python",
   "nbconvert_exporter": "python",
   "pygments_lexer": "ipython3",
   "version": "3.9.13"
  }
 },
 "nbformat": 4,
 "nbformat_minor": 5
}
